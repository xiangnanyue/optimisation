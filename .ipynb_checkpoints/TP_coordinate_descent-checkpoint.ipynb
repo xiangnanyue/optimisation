{
 "cells": [
  {
   "cell_type": "markdown",
   "metadata": {},
   "source": [
    "# TP : Proximal coordinate descent method on regression models\n",
    "\n",
    "#### Authors: R. Gower, A. Gramfort\n",
    "\n",
    "## Aim\n",
    "\n",
    "The aim of this material is to code \n",
    "- proximal coordinate descent\n",
    "\n",
    "for \n",
    "- Lasso / L1 linear regression\n",
    "- non-negative least squares (NNLS)\n",
    "\n",
    "models.\n",
    "\n",
    "The proximal operators we will use are the \n",
    "- L1 penalization\n",
    "- indicator function of $\\mathbb{R}_+$\n",
    "\n",
    "## VERY IMPORTANT\n",
    "\n",
    "- This work **must be done by pairs of students**.\n",
    "- **Each** student must send their work **before the 22th of october at 23:59**, using the **moodle platform**.\n",
    "- This means that **each student in the pair sends the same file**\n",
    "- On the moodle, in the \"Optimization for Data Science\" course, you have a \"devoir\" section called **Rendu TP du 16 octobre 2016**. This is where you submit your jupyter notebook file. \n",
    "- The **name of the file must be** constructed as in the next cell\n",
    "\n",
    "# Gentle reminder: no evaluation if you don't respect this EXACTLY\n",
    "\n",
    "### How to construct the name of your file"
   ]
  },
  {
   "cell_type": "code",
   "execution_count": 2,
   "metadata": {
    "collapsed": false
   },
   "outputs": [
    {
     "name": "stdout",
     "output_type": "stream",
     "text": [
      "tp_cd_yue_xiangnan_and_chen_junfeng.ipynb\n"
     ]
    }
   ],
   "source": [
    "# Change here using YOUR first and last names\n",
    "fn1 = \"xiangnan\"\n",
    "ln1 = \"yue\"\n",
    "fn2 = \"junfeng\"\n",
    "ln2 = \"chen\"\n",
    "\n",
    "filename = \"_\".join(map(lambda s: s.strip().lower(), \n",
    "                        [\"tp_cd\", ln1, fn1, \"and\", ln2, fn2])) + \".ipynb\"\n",
    "print(filename)"
   ]
  },
  {
   "cell_type": "code",
   "execution_count": 3,
   "metadata": {
    "collapsed": true
   },
   "outputs": [],
   "source": [
    "## to embed figures in the notebook\n",
    "%matplotlib inline"
   ]
  },
  {
   "cell_type": "markdown",
   "metadata": {},
   "source": [
    "## Part 0 : Introduction\n",
    "\n",
    "We'll start by generating sparse positive vectors and simulating data\n",
    "\n",
    "### Getting sparse coefficients"
   ]
  },
  {
   "cell_type": "code",
   "execution_count": 4,
   "metadata": {
    "collapsed": true
   },
   "outputs": [],
   "source": [
    "import numpy as np\n",
    "import matplotlib.pyplot as plt\n",
    "\n",
    "np.set_printoptions(precision=2)  # to have simpler print outputs with numpy"
   ]
  },
  {
   "cell_type": "code",
   "execution_count": 5,
   "metadata": {
    "collapsed": false,
    "scrolled": false
   },
   "outputs": [
    {
     "data": {
      "text/plain": [
       "<matplotlib.text.Text at 0x1090fce48>"
      ]
     },
     "execution_count": 5,
     "metadata": {},
     "output_type": "execute_result"
    },
    {
     "data": {
      "image/png": "[encoded data removed]",
      "text/plain": [
       "<matplotlib.figure.Figure at 0x108de7da0>"
      ]
     },
     "metadata": {},
     "output_type": "display_data"
    }
   ],
   "source": [
    "n_features = 50\n",
    "n_samples = 1000\n",
    "idx = np.arange(n_features)\n",
    "coefs = (idx % 2) * np.exp(-idx / 10.)\n",
    "coefs[20:] = 0.\n",
    "plt.stem(coefs)\n",
    "plt.title(\"Parameters / Coefficients\")"
   ]
  },
  {
   "cell_type": "markdown",
   "metadata": {},
   "source": [
    "### Functions for the simulation of the models"
   ]
  },
  {
   "cell_type": "code",
   "execution_count": 6,
   "metadata": {
    "collapsed": true
   },
   "outputs": [],
   "source": [
    "from numpy.random import multivariate_normal\n",
    "from scipy.linalg.special_matrices import toeplitz\n",
    "from numpy.random import randn\n",
    "\n",
    "\n",
    "def simu_linreg(coefs, n_samples=1000, corr=0.5):\n",
    "    \"\"\"Simulation of a linear regression model\n",
    "    \n",
    "    Parameters\n",
    "    ----------\n",
    "    coefs : `numpy.array`, shape=(n_features,)\n",
    "        Coefficients of the model\n",
    "    \n",
    "    n_samples : `int`, default=1000\n",
    "        Number of samples to simulate\n",
    "    \n",
    "    corr : `float`, default=0.5\n",
    "        Correlation of the features\n",
    "\n",
    "    Returns\n",
    "    -------\n",
    "    A : `numpy.ndarray`, shape=(n_samples, n_features)\n",
    "        Simulated features matrix. It samples of a centered Gaussian \n",
    "        vector with covariance given by the Toeplitz matrix\n",
    "    \n",
    "    b : `numpy.array`, shape=(n_samples,)\n",
    "        Simulated labels\n",
    "    \"\"\"\n",
    "    # Construction of a covariance matrix\n",
    "    cov = toeplitz(corr ** np.arange(0, n_features))\n",
    "    # Simulation of features\n",
    "    A = multivariate_normal(np.zeros(n_features), cov, size=n_samples)\n",
    "    # Simulation of the labels\n",
    "    b = A.dot(coefs) + randn(n_samples)\n",
    "    return A, b"
   ]
  },
  {
   "cell_type": "code",
   "execution_count": 7,
   "metadata": {
    "collapsed": false
   },
   "outputs": [
    {
     "data": {
      "text/plain": [
       "array([[  1.00e+00,   1.00e-01,   1.00e-02, ...,   1.00e-47,   1.00e-48,\n",
       "          1.00e-49],\n",
       "       [  1.00e-01,   1.00e+00,   1.00e-01, ...,   1.00e-46,   1.00e-47,\n",
       "          1.00e-48],\n",
       "       [  1.00e-02,   1.00e-01,   1.00e+00, ...,   1.00e-45,   1.00e-46,\n",
       "          1.00e-47],\n",
       "       ..., \n",
       "       [  1.00e-47,   1.00e-46,   1.00e-45, ...,   1.00e+00,   1.00e-01,\n",
       "          1.00e-02],\n",
       "       [  1.00e-48,   1.00e-47,   1.00e-46, ...,   1.00e-01,   1.00e+00,\n",
       "          1.00e-01],\n",
       "       [  1.00e-49,   1.00e-48,   1.00e-47, ...,   1.00e-02,   1.00e-01,\n",
       "          1.00e+00]])"
      ]
     },
     "execution_count": 7,
     "metadata": {},
     "output_type": "execute_result"
    }
   ],
   "source": [
    "toeplitz(0.1**np.arange(0,n_features))"
   ]
  },
  {
   "cell_type": "code",
   "execution_count": 8,
   "metadata": {
    "collapsed": false
   },
   "outputs": [],
   "source": [
    "multivariate_normal?"
   ]
  },
  {
   "cell_type": "markdown",
   "metadata": {},
   "source": [
    "## Proximal operators and Solver\n"
   ]
  },
  {
   "cell_type": "markdown",
   "metadata": {},
   "source": [
    "We remind that the proximal operator of a fonction $g$ is given by:\n",
    "\n",
    "$$\n",
    "\\text{prox}_g(y, t) = \\arg\\min_x \\Big\\{ \\frac 12 \\|x - y\\|_2^2 + t g(x) \\Big\\}.\n",
    "$$\n",
    "\n",
    "where $t \\geq 0$ is a non-negative number.\n",
    "We have in mind to use the following cases\n",
    "\n",
    "- Lasso penalization, where $g(x) = s \\|x\\|_1$\n",
    "- Indicator function of $\\mathbb{R}^n_+$, where $g(x) = i_{x \\in \\mathbb{R}_+^n}(\\cdot)$\n",
    "\n",
    "where $s \\geq 0$ is a regularization parameter."
   ]
  },
  {
   "cell_type": "markdown",
   "metadata": {},
   "source": [
    "We want to minimize:\n",
    "$$\n",
    "\\arg\\min_x F(x)\n",
    "$$\n",
    "with\n",
    "$$\n",
    " F(x) = \\frac{1}{2} \\|b - Ax\\|^2 + g(x)\n",
    "$$\n",
    "\n",
    "## Questions\n",
    "\n",
    "- Code a function that computes $g(x)$ and $\\text{prox}_g(x)$ for in both cases\n",
    "- Justify why proximal coordinate descent can be applied to obtain a minimum of such objective functions.\n",
    "- Starting from the code provided in the notebook presented during the coordinate descent course as well as the code below, implement a proximal coordinate method for both penalties.\n",
    "- Evaluate qualitatively the convergence when varying the conditioning of the problem.\n",
    "- Bonus: Try to show that coordinate is much less affected by bad conditioning that proximal gradient descent.\n",
    "\n",
    "### You are expected to implement the smart residuals updates !\n",
    "\n",
    "### You are very welcome to reuse everything you did for TP1 !"
   ]
  },
  {
   "cell_type": "markdown",
   "metadata": {},
   "source": [
    "## code a function that computes g and prox_g"
   ]
  },
  {
   "cell_type": "code",
   "execution_count": 9,
   "metadata": {
    "collapsed": true
   },
   "outputs": [],
   "source": [
    "def prox_lasso(y, s, t=1.):\n",
    "    \"\"\"Proximal operator for the Lasso at y with strength t\"\"\"    \n",
    "    return np.sign(y)*np.maximum(np.abs(y)-s*t, 0) # TODO\n",
    "    \n",
    "def lasso(x, s):\n",
    "    \"\"\"Value of the Lasso penalization at x with strength t\"\"\"\n",
    "    return s*np.linalg.norm(x,ord=1) # TODO\n",
    "\n",
    "def prox_indic(y, s, t=1.):\n",
    "    \"\"\"Proximal operator for the indicator function at y with strength t\"\"\"    \n",
    "    return np.maximum(0, y) # TODO\n",
    "    \n",
    "def indic(x, s):\n",
    "    \"\"\"Value of the indicator penalization at x with strength t\"\"\"\n",
    "    return 0 if np.all(x>=0) else np.inf # TODO"
   ]
  },
  {
   "cell_type": "code",
   "execution_count": 10,
   "metadata": {
    "collapsed": false
   },
   "outputs": [
    {
     "data": {
      "text/plain": [
       "array([2, 3, 4, 0])"
      ]
     },
     "execution_count": 10,
     "metadata": {},
     "output_type": "execute_result"
    }
   ],
   "source": [
    "x = np.array([2,3,4,-1])\n",
    "np.all(x>0)\n",
    "\n",
    "np.maximum(0, x)"
   ]
  },
  {
   "cell_type": "markdown",
   "metadata": {},
   "source": [
    "## Justify why proximal coordinate descent can be applied to obtain a minimum of such objective functions"
   ]
  },
  {
   "cell_type": "markdown",
   "metadata": {},
   "source": [
    "here we know that $ \\frac{1}{2} \\|b - Ax\\|^2 $\n",
    "and $ g(x) = i_{x \\in \\mathbb{R}_+^n}(\\cdot) $ are both convex function.\n",
    "Moreover, the $ \\frac{1}{2} \\|b - Ax\\|^2 $ has Lipschitz-continuous gradient and $ g(x) = i_{x \\in \\mathbb{R}_+^n}(\\cdot) $ is separable.\n"
   ]
  },
  {
   "cell_type": "markdown",
   "metadata": {},
   "source": [
    "## Starting from the code provided in the notebook presented during the coordinate descent course as well as the code below, implement a proximal coordinate method for both penalties"
   ]
  },
  {
   "cell_type": "code",
   "execution_count": 11,
   "metadata": {
    "collapsed": false
   },
   "outputs": [],
   "source": [
    "\n",
    "def cd_linreg(x0, A, b, g, prox_g, s=0., n_iter=50,\n",
    "              x_true=coefs, verbose=True):\n",
    "    \"\"\"Proximal gradient descent algorithm\n",
    "\n",
    "    Minimize :\n",
    "    \n",
    "    1/2 ||b−Ax||^2 + s * g(x)\n",
    "    \n",
    "    with coordinate descent.\n",
    "    \"\"\"\n",
    "    x = x0.copy()\n",
    "    x_new = x0.copy()\n",
    "    n_samples, n_features = A.shape\n",
    "\n",
    "    # estimation error history\n",
    "    errors = []\n",
    "    # objective history\n",
    "    objectives = []\n",
    "    # Current estimation error\n",
    "    err = np.linalg.norm(x - x_true) / np.linalg.norm(x_true)\n",
    "    errors.append(err)\n",
    "    # Current objective\n",
    "    obj = 0.5 * np.linalg.norm(b - A.dot(x))**2 + g(x, s)\n",
    "    objectives.append(obj)\n",
    "\n",
    "    if verbose:\n",
    "        print(\"Launching Coordinate Descent solver...\")\n",
    "        print(' | '.join([name.center(8) for name in [\"it\", \"obj\", \"err\"]]))\n",
    "\n",
    "    for k in range(n_iter + 1):\n",
    "\n",
    "        #### TODO ####\n",
    "        for i in range(n_features):\n",
    "            df_i = np.dot(A[:, i].T, -b + np.dot(A, x))\n",
    "            y_i = x[i] - s*df_i\n",
    "            x_new[i] = prox_g(y_i, s)\n",
    "            \n",
    "        # update x_old\n",
    "        x = x_new\n",
    "        \n",
    "        ##### END ########\n",
    "        \n",
    "        obj = 0.5 * np.linalg.norm(b - A.dot(x))**2 + g(x, s)\n",
    "        err = np.linalg.norm(x - x_true) / np.linalg.norm(x_true)\n",
    "        errors.append(err)\n",
    "        objectives.append(obj)\n",
    "        if k % 10 == 0 and verbose:\n",
    "            print(' | '.join([(\"%d\" % k).rjust(8), \n",
    "                              (\"%.2e\" % obj).rjust(8), \n",
    "                              (\"%.2e\" % err).rjust(8)]))\n",
    "    return x, objectives, errors"
   ]
  },
  {
   "cell_type": "code",
   "execution_count": 12,
   "metadata": {
    "collapsed": false
   },
   "outputs": [],
   "source": [
    "# prepare the params\n",
    "x0 = np.zeros(n_features)\n",
    "A, b = simu_linreg(coefs, n_samples=1000, corr=0.5)\n",
    "g = lasso\n",
    "prox_g = prox_lasso\n",
    "\n",
    "def lip_linreg(A):\n",
    "    \"\"\"Lipschitz constant for linear squares loss\"\"\"    \n",
    "    # TODO\n",
    "    # n = np.size(A,axis=0)\n",
    "    return np.linalg.svd(a=A)[1][0]**2\n",
    "\n",
    "s = 1/lip_linreg(A)"
   ]
  },
  {
   "cell_type": "code",
   "execution_count": 13,
   "metadata": {
    "collapsed": false
   },
   "outputs": [
    {
     "name": "stdout",
     "output_type": "stream",
     "text": [
      "Launching Coordinate Descent solver...\n",
      "   it    |   obj    |   err   \n",
      "       0 | 1.16e+03 | 6.84e-01\n",
      "      10 | 4.81e+02 | 1.91e-01\n",
      "      20 | 4.81e+02 | 1.96e-01\n",
      "      30 | 4.81e+02 | 1.97e-01\n",
      "      40 | 4.81e+02 | 1.97e-01\n",
      "      50 | 4.81e+02 | 1.97e-01\n"
     ]
    }
   ],
   "source": [
    "final_x, objectives, errors = cd_linreg(x0, A, b, g, prox_g, s, n_iter=50, x_true=coefs, verbose=True)"
   ]
  },
  {
   "cell_type": "code",
   "execution_count": 14,
   "metadata": {
    "collapsed": false
   },
   "outputs": [
    {
     "name": "stdout",
     "output_type": "stream",
     "text": [
      "Launching Coordinate Descent solver...\n",
      "   it    |   obj    |   err   \n",
      "       0 | 1.14e+03 | 6.77e-01\n",
      "      10 | 4.93e+02 | 1.45e-01\n",
      "      20 | 4.93e+02 | 1.42e-01\n",
      "      30 | 4.93e+02 | 1.42e-01\n",
      "      40 | 4.93e+02 | 1.42e-01\n",
      "      50 | 4.93e+02 | 1.42e-01\n"
     ]
    }
   ],
   "source": [
    "g = indic\n",
    "prox_g = prox_indic\n",
    "final_x_indic, objectives_indic, errors_indic = cd_linreg(x0, A, b, g, prox_g, s, n_iter=50, x_true=coefs, verbose=True)"
   ]
  },
  {
   "cell_type": "markdown",
   "metadata": {},
   "source": [
    "## Evaluate qualitatively the convergence when varying the conditioning of the problem."
   ]
  },
  {
   "cell_type": "markdown",
   "metadata": {},
   "source": [
    "### original parametres"
   ]
  },
  {
   "cell_type": "code",
   "execution_count": 15,
   "metadata": {
    "collapsed": false
   },
   "outputs": [
    {
     "data": {
      "text/plain": [
       "<matplotlib.text.Text at 0x10f3085f8>"
      ]
     },
     "execution_count": 15,
     "metadata": {},
     "output_type": "execute_result"
    },
    {
     "data": {
      "image/png": "[encoded data removed]",
      "text/plain": [
       "<matplotlib.figure.Figure at 0x1092205c0>"
      ]
     },
     "metadata": {},
     "output_type": "display_data"
    }
   ],
   "source": [
    "plt.plot(errors_indic, \"b\", label=\"indic\")\n",
    "plt.plot(errors, \"r\", label=\"lasso\")\n",
    "plt.legend()\n",
    "plt.title(\"relative errors\", fontsize=16)"
   ]
  },
  {
   "cell_type": "markdown",
   "metadata": {},
   "source": [
    "### change the correlation parametres for the covariance matrix "
   ]
  },
  {
   "cell_type": "code",
   "execution_count": 16,
   "metadata": {
    "collapsed": false
   },
   "outputs": [
    {
     "name": "stdout",
     "output_type": "stream",
     "text": [
      "Launching Coordinate Descent solver...\n",
      "   it    |   obj    |   err   \n",
      "       0 | 1.39e+03 | 6.67e-01\n",
      "      10 | 4.77e+02 | 1.68e-01\n",
      "      20 | 4.77e+02 | 1.69e-01\n",
      "      30 | 4.77e+02 | 1.69e-01\n",
      "      40 | 4.77e+02 | 1.69e-01\n",
      "      50 | 4.77e+02 | 1.69e-01\n",
      "Launching Coordinate Descent solver...\n",
      "   it    |   obj    |   err   \n",
      "       0 | 1.86e+03 | 8.37e-01\n",
      "      10 | 4.65e+02 | 1.58e-01\n",
      "      20 | 4.65e+02 | 1.59e-01\n",
      "      30 | 4.65e+02 | 1.59e-01\n",
      "      40 | 4.65e+02 | 1.59e-01\n",
      "      50 | 4.65e+02 | 1.59e-01\n",
      "Launching Coordinate Descent solver...\n",
      "   it    |   obj    |   err   \n",
      "       0 | 2.22e+03 | 8.92e-01\n",
      "      10 | 4.72e+02 | 2.86e-01\n",
      "      20 | 4.69e+02 | 2.40e-01\n",
      "      30 | 4.69e+02 | 2.33e-01\n",
      "      40 | 4.69e+02 | 2.32e-01\n",
      "      50 | 4.69e+02 | 2.32e-01\n",
      "Launching Coordinate Descent solver...\n",
      "   it    |   obj    |   err   \n",
      "       0 | 2.17e+03 | 8.40e-01\n",
      "      10 | 4.90e+02 | 3.94e-01\n",
      "      20 | 4.72e+02 | 3.00e-01\n",
      "      30 | 4.67e+02 | 2.78e-01\n",
      "      40 | 4.66e+02 | 2.76e-01\n",
      "      50 | 4.66e+02 | 2.77e-01\n",
      "Launching Coordinate Descent solver...\n",
      "   it    |   obj    |   err   \n",
      "       0 | 2.91e+03 | 8.70e-01\n",
      "      10 | 5.39e+02 | 5.30e-01\n",
      "      20 | 5.22e+02 | 4.26e-01\n",
      "      30 | 5.14e+02 | 3.65e-01\n",
      "      40 | 5.10e+02 | 3.30e-01\n",
      "      50 | 5.08e+02 | 3.09e-01\n",
      "Launching Coordinate Descent solver...\n",
      "   it    |   obj    |   err   \n",
      "       0 | 2.92e+03 | 8.23e-01\n",
      "      10 | 5.18e+02 | 6.76e-01\n",
      "      20 | 5.10e+02 | 6.34e-01\n",
      "      30 | 5.04e+02 | 5.98e-01\n",
      "      40 | 4.99e+02 | 5.67e-01\n",
      "      50 | 4.95e+02 | 5.39e-01\n"
     ]
    },
    {
     "data": {
      "image/png": "[encoded data removed]",
      "text/plain": [
       "<matplotlib.figure.Figure at 0x109225a20>"
      ]
     },
     "metadata": {},
     "output_type": "display_data"
    }
   ],
   "source": [
    "# prepare the params\n",
    "\n",
    "g = lasso\n",
    "prox_g = prox_lasso\n",
    "\n",
    "for i in range(4,10):\n",
    "    A,b = simu_linreg(coefs, n_samples=1000, corr = 0.1*i)\n",
    "    s = 1/lip_linreg(A)\n",
    "    x0 = np.zeros(n_features)\n",
    "    final_x, objectives, errors = cd_linreg(x0, A, b, g, prox_g, s, n_iter=50, x_true=coefs, verbose=True)\n",
    "    \n",
    "    plt.plot(errors, label=\"corr %s\" % (i/10)) \n",
    "    plt.legend()\n",
    "    plt.title(\"relative errors by different correlation parametres\", fontsize=16)"
   ]
  },
  {
   "cell_type": "markdown",
   "metadata": {},
   "source": [
    "- with smaller corr, the covariance matrix is approaching unit matrix, the singular value is larger and thus convergence speed is quicker."
   ]
  },
  {
   "cell_type": "markdown",
   "metadata": {},
   "source": [
    "### change the start vector x0"
   ]
  },
  {
   "cell_type": "code",
   "execution_count": 17,
   "metadata": {
    "collapsed": false
   },
   "outputs": [
    {
     "name": "stdout",
     "output_type": "stream",
     "text": [
      "Launching Coordinate Descent solver...\n",
      "   it    |   obj    |   err   \n",
      "       0 | 5.98e+03 | 1.87e+00\n",
      "      10 | 4.70e+02 | 1.58e-01\n",
      "      20 | 4.70e+02 | 1.58e-01\n",
      "      30 | 4.70e+02 | 1.58e-01\n",
      "      40 | 4.70e+02 | 1.58e-01\n",
      "      50 | 4.70e+02 | 1.58e-01\n",
      "Launching Coordinate Descent solver...\n",
      "   it    |   obj    |   err   \n",
      "       0 | 1.30e+03 | 6.56e-01\n",
      "      10 | 4.70e+02 | 1.58e-01\n",
      "      20 | 4.70e+02 | 1.58e-01\n",
      "      30 | 4.70e+02 | 1.58e-01\n",
      "      40 | 4.70e+02 | 1.58e-01\n",
      "      50 | 4.70e+02 | 1.58e-01\n"
     ]
    },
    {
     "data": {
      "text/plain": [
       "<matplotlib.text.Text at 0x10f60c630>"
      ]
     },
     "execution_count": 17,
     "metadata": {},
     "output_type": "execute_result"
    },
    {
     "data": {
      "image/png": "[encoded data removed]",
      "text/plain": [
       "<matplotlib.figure.Figure at 0x10847d048>"
      ]
     },
     "metadata": {},
     "output_type": "display_data"
    }
   ],
   "source": [
    "g = lasso\n",
    "prox_g = prox_lasso\n",
    "A,b = simu_linreg(coefs, n_samples=1000, corr = 0.3)\n",
    "s = 1/lip_linreg(A)\n",
    "\n",
    "xr0 = np.random.randn(n_features)\n",
    "final_xr, objectivesr, errorsr = cd_linreg(xr0, A, b, g, prox_g, s, n_iter=50, x_true=coefs, verbose=True)\n",
    "x00 = np.zeros(n_features)\n",
    "final_x, objectives, errors = cd_linreg(x00, A, b, g, prox_g, s, n_iter=50, x_true=coefs, verbose=True)\n",
    "\n",
    "plt.plot(errorsr,\"r\", label=\"randomn initiate\") \n",
    "plt.plot(errors,\"b\", label=\"zero initiate\") \n",
    "plt.legend()\n",
    "plt.title(\"relative errors by different initiate value\", fontsize=16)"
   ]
  },
  {
   "cell_type": "markdown",
   "metadata": {},
   "source": [
    "- zero initiate gets better results for starting errors."
   ]
  },
  {
   "cell_type": "markdown",
   "metadata": {},
   "source": [
    "### change the value of s"
   ]
  },
  {
   "cell_type": "code",
   "execution_count": 18,
   "metadata": {
    "collapsed": false
   },
   "outputs": [
    {
     "name": "stdout",
     "output_type": "stream",
     "text": [
      "Launching Coordinate Descent solver...\n",
      "   it    |   obj    |   err   \n",
      "       0 | 1.47e+03 | 7.41e-01\n",
      "      10 | 4.65e+02 | 1.57e-01\n",
      "      20 | 4.65e+02 | 1.56e-01\n",
      "      30 | 4.65e+02 | 1.56e-01\n",
      "      40 | 4.65e+02 | 1.56e-01\n",
      "      50 | 4.65e+02 | 1.56e-01\n",
      "Launching Coordinate Descent solver...\n",
      "   it    |   obj    |   err   \n",
      "       0 | 6.86e+02 | 6.22e-01\n",
      "      10 | 4.69e+02 | 1.86e-01\n",
      "      20 | 4.65e+02 | 1.59e-01\n",
      "      30 | 4.65e+02 | 1.56e-01\n",
      "      40 | 4.65e+02 | 1.56e-01\n",
      "      50 | 4.65e+02 | 1.56e-01\n",
      "Launching Coordinate Descent solver...\n",
      "   it    |   obj    |   err   \n",
      "       0 | 1.11e+03 | 7.73e-01\n",
      "      10 | 5.01e+02 | 3.17e-01\n",
      "      20 | 4.71e+02 | 2.03e-01\n",
      "      30 | 4.66e+02 | 1.70e-01\n",
      "      40 | 4.65e+02 | 1.61e-01\n",
      "      50 | 4.65e+02 | 1.58e-01\n",
      "Launching Coordinate Descent solver...\n",
      "   it    |   obj    |   err   \n",
      "       0 | 1.52e+03 | 8.80e-01\n",
      "      10 | 5.75e+02 | 4.74e-01\n",
      "      20 | 5.07e+02 | 3.37e-01\n",
      "      30 | 4.84e+02 | 2.58e-01\n",
      "      40 | 4.73e+02 | 2.12e-01\n",
      "      50 | 4.69e+02 | 1.87e-01\n"
     ]
    },
    {
     "data": {
      "image/png": "[encoded data removed]",
      "text/plain": [
       "<matplotlib.figure.Figure at 0x10f5c04a8>"
      ]
     },
     "metadata": {},
     "output_type": "display_data"
    }
   ],
   "source": [
    "g = lasso\n",
    "prox_g = prox_lasso\n",
    "A,b = simu_linreg(coefs, n_samples=1000, corr = 0.4)\n",
    "#s = 1e-3\n",
    "#s = 1/lip_linreg(A)\n",
    "\n",
    "for i in range(1,5):\n",
    "    s = 1/(np.linalg.svd(a=A)[1][0]**2/4)*(0.5**i)\n",
    "    x0 = np.zeros(n_features)\n",
    "    final_x, objectives, errors = cd_linreg(x0, A, b, g, prox_g, s, n_iter=50, x_true=coefs, verbose=True)\n",
    "    \n",
    "    plt.plot(errors, label=\"s=%s\" % (s)) \n",
    "    plt.legend()\n",
    "    plt.title(\"relative errors by different value of s\", fontsize=16)\n",
    "\n"
   ]
  },
  {
   "cell_type": "markdown",
   "metadata": {},
   "source": [
    "- with a larger s the speed of convergence is quicker, yet s cannot be too large to break the convergence condition"
   ]
  },
  {
   "cell_type": "code",
   "execution_count": null,
   "metadata": {
    "collapsed": true
   },
   "outputs": [],
   "source": []
  }
 ],
 "metadata": {
  "kernelspec": {
   "display_name": "Python 3",
   "language": "python",
   "name": "python3"
  },
  "language_info": {
   "codemirror_mode": {
    "name": "ipython",
    "version": 3
   },
   "file_extension": ".py",
   "mimetype": "text/x-python",
   "name": "python",
   "nbconvert_exporter": "python",
   "pygments_lexer": "ipython3",
   "version": "3.6.0"
  }
 },
 "nbformat": 4,
 "nbformat_minor": 1
}
