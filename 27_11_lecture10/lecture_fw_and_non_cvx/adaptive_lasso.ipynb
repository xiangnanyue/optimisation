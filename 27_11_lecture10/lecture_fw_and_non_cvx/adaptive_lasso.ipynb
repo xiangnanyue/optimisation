{
 "cells": [
  {
   "cell_type": "markdown",
   "metadata": {},
   "source": [
    "# Example of adaptive Lasso\n",
    "\n",
    "Author: Alexandre Gramfort\n",
    "\n",
    "Adaptive lasso consists in computing many Lasso with feature\n",
    "reweighting. It's also known as iterated or reweighted L1."
   ]
  },
  {
   "cell_type": "code",
   "execution_count": 1,
   "metadata": {
    "collapsed": true
   },
   "outputs": [],
   "source": [
    "import matplotlib.pyplot as plt\n",
    "%matplotlib inline"
   ]
  },
  {
   "cell_type": "code",
   "execution_count": 2,
   "metadata": {},
   "outputs": [
    {
     "data": {
      "text/plain": [
       "(72, 7129)"
      ]
     },
     "execution_count": 2,
     "metadata": {},
     "output_type": "execute_result"
    }
   ],
   "source": [
    "import numpy as np\n",
    "from sklearn.datasets import fetch_mldata\n",
    "from sklearn.linear_model import Lasso\n",
    "\n",
    "data = fetch_mldata(\"leukemia\")\n",
    "X = data.data.astype(float)\n",
    "y = data.target.astype(float)\n",
    "X /= np.sum(X ** 2, axis=0)  # scale features\n",
    "X.shape"
   ]
  },
  {
   "cell_type": "code",
   "execution_count": 3,
   "metadata": {},
   "outputs": [
    {
     "name": "stdout",
     "output_type": "stream",
     "text": [
      "Sparsity: 0.463 %- Objective: 0.11338\n",
      "Sparsity: 0.295 %- Objective: 0.10110\n",
      "Sparsity: 0.267 %- Objective: 0.09868\n",
      "Sparsity: 0.210 %- Objective: 0.09573\n",
      "Sparsity: 0.182 %- Objective: 0.09454\n",
      "Sparsity: 0.182 %- Objective: 0.09453\n",
      "Sparsity: 0.182 %- Objective: 0.09452\n",
      "Sparsity: 0.182 %- Objective: 0.09452\n",
      "Sparsity: 0.182 %- Objective: 0.09452\n",
      "Sparsity: 0.182 %- Objective: 0.09451\n"
     ]
    }
   ],
   "source": [
    "if True:  # g(x) = sqrt(abs(x))\n",
    "    g = lambda w: np.sqrt(np.abs(w))\n",
    "    gprime = lambda w: 1. / (2. * np.sqrt(np.abs(w)) + np.finfo(float).eps)\n",
    "else: # g(x) = log(eps + abs(x))\n",
    "    # TODO\n",
    "    eps = 0.01\n",
    "    g = None\n",
    "    gprime = None\n",
    "\n",
    "n_samples, n_features = X.shape\n",
    "p_obj = lambda w: 1. / (2 * n_samples) * np.sum((y - np.dot(X, w)) ** 2) \\\n",
    "                  + alpha * np.sum(g(w))\n",
    "\n",
    "weights = np.ones(n_features)\n",
    "n_lasso_iterations = 10\n",
    "alpha = 0.001\n",
    "\n",
    "objective = []\n",
    "for k in range(n_lasso_iterations):\n",
    "    X_w = X / weights[np.newaxis, :]\n",
    "    clf = Lasso(alpha=alpha, fit_intercept=False)\n",
    "    clf.fit(X_w, y)\n",
    "    coef_ = clf.coef_ / weights\n",
    "    weights = gprime(coef_)\n",
    "    objective.append(p_obj(coef_))\n",
    "    print('Sparsity: %1.3f %%- Objective: %.5f' % (100. * np.mean(coef_ != 0.0), objective[-1]))"
   ]
  },
  {
   "cell_type": "code",
   "execution_count": 4,
   "metadata": {},
   "outputs": [
    {
     "data": {
      "image/png": "[encoded data removed]",
      "text/plain": [
       "<matplotlib.figure.Figure at 0x10e8ee908>"
      ]
     },
     "metadata": {},
     "output_type": "display_data"
    }
   ],
   "source": [
    "plt.plot(objective)\n",
    "plt.xlabel('Iterations')\n",
    "plt.ylabel('Objective');"
   ]
  },
  {
   "cell_type": "markdown",
   "metadata": {},
   "source": [
    "<div class=\"alert alert-success\">\n",
    "    <b>EXERCISE:</b>\n",
    "     <ul>\n",
    "      <li>Implement reweighting L1 for $g(x) = \\log(\\epsilon + |x|)$ by Candes et al.</li>\n",
    "    </ul>\n",
    "</div>"
   ]
  }
 ],
 "metadata": {
  "kernelspec": {
   "display_name": "Python 3",
   "language": "python",
   "name": "python3"
  },
  "language_info": {
   "codemirror_mode": {
    "name": "ipython",
    "version": 3
   },
   "file_extension": ".py",
   "mimetype": "text/x-python",
   "name": "python",
   "nbconvert_exporter": "python",
   "pygments_lexer": "ipython3",
   "version": "3.6.2"
  }
 },
 "nbformat": 4,
 "nbformat_minor": 1
}
