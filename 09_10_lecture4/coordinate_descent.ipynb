{
 "cells": [
  {
   "cell_type": "markdown",
   "metadata": {},
   "source": [
    "# Coordinate descent for least squares\n",
    "\n",
    "Author: Alexandre Gramfort"
   ]
  },
  {
   "cell_type": "code",
   "execution_count": 1,
   "metadata": {
    "collapsed": true
   },
   "outputs": [],
   "source": [
    "%matplotlib inline\n",
    "import numpy as np\n",
    "import matplotlib.pyplot as plt\n",
    "from scipy import linalg"
   ]
  },
  {
   "cell_type": "markdown",
   "metadata": {},
   "source": [
    "## Generate simulated data\n",
    "\n",
    "$y = Ax+noise$"
   ]
  },
  {
   "cell_type": "code",
   "execution_count": 2,
   "metadata": {
    "collapsed": true
   },
   "outputs": [],
   "source": [
    "np.random.seed(0)\n",
    "n_samples, n_features = 300, 100\n",
    "A = np.random.randn(n_samples, n_features)\n",
    "x = np.random.randn(n_features)\n",
    "y = np.dot(A, x)\n",
    "y += 0.3 * np.random.randn(n_samples)"
   ]
  },
  {
   "cell_type": "markdown",
   "metadata": {},
   "source": [
    "## Option 1 : \n",
    "\n",
    "$\\min_w \\frac{1}{2} \\|y - Ax\\|^2$\n",
    "\n",
    "solved with `linalg.solve`"
   ]
  },
  {
   "cell_type": "code",
   "execution_count": 3,
   "metadata": {
    "collapsed": true,
    "scrolled": true
   },
   "outputs": [],
   "source": [
    "x_solve = linalg.solve(np.dot(A.T, A), np.dot(A.T, y))"
   ]
  },
  {
   "cell_type": "code",
   "execution_count": 4,
   "metadata": {
    "collapsed": false
   },
   "outputs": [
    {
     "data": {
      "image/png": "[encoded data removed]",
      "text/plain": [
       "<matplotlib.figure.Figure at 0x106096b00>"
      ]
     },
     "metadata": {},
     "output_type": "display_data"
    }
   ],
   "source": [
    "plt.scatter(x, x_solve);"
   ]
  },
  {
   "cell_type": "code",
   "execution_count": 7,
   "metadata": {
    "collapsed": true
   },
   "outputs": [],
   "source": [
    "gram = np.dot(A.T, A)\n",
    "L = linalg.norm(gram, ord=2)"
   ]
  },
  {
   "cell_type": "code",
   "execution_count": 10,
   "metadata": {
    "collapsed": false
   },
   "outputs": [
    {
     "data": {
      "text/plain": [
       "(693.00529877576719, 100)"
      ]
     },
     "execution_count": 10,
     "metadata": {},
     "output_type": "execute_result"
    }
   ],
   "source": [
    "L, len(x)"
   ]
  },
  {
   "cell_type": "code",
   "execution_count": 9,
   "metadata": {
    "collapsed": false
   },
   "outputs": [
    {
     "data": {
      "text/plain": [
       "array([[ 301.31095275,   -3.39958429,   15.63946099, ...,   12.31442605,\n",
       "          20.45560326,   20.96458095],\n",
       "       [  -3.39958429,  291.11334834,   -4.81064639, ...,    1.39023439,\n",
       "          21.13858741,    8.63368263],\n",
       "       [  15.63946099,   -4.81064639,  320.2441514 , ...,    6.45889953,\n",
       "         -45.08130135,    9.64272795],\n",
       "       ..., \n",
       "       [  12.31442605,    1.39023439,    6.45889953, ...,  265.59611562,\n",
       "         -13.58298   ,   -1.58243917],\n",
       "       [  20.45560326,   21.13858741,  -45.08130135, ...,  -13.58298   ,\n",
       "         328.12752379,    6.41150312],\n",
       "       [  20.96458095,    8.63368263,    9.64272795, ...,   -1.58243917,\n",
       "           6.41150312,  278.10201985]])"
      ]
     },
     "execution_count": 9,
     "metadata": {},
     "output_type": "execute_result"
    }
   ],
   "source": [
    "gram"
   ]
  },
  {
   "cell_type": "markdown",
   "metadata": {},
   "source": [
    "## Option 2: gradient descent"
   ]
  },
  {
   "cell_type": "code",
   "execution_count": 11,
   "metadata": {
    "collapsed": false
   },
   "outputs": [
    {
     "data": {
      "text/plain": [
       "<matplotlib.text.Text at 0x111e92b00>"
      ]
     },
     "execution_count": 11,
     "metadata": {},
     "output_type": "execute_result"
    },
    {
     "data": {
      "image/png": "[encoded data removed]",
      "text/plain": [
       "<matplotlib.figure.Figure at 0x111e12f98>"
      ]
     },
     "metadata": {},
     "output_type": "display_data"
    }
   ],
   "source": [
    "def gradient(x):\n",
    "    return np.dot(A.T, np.dot(A, x) - y)\n",
    "\n",
    "def objective(x):\n",
    "    return 0.5 * linalg.norm(np.dot(A, x) - y) ** 2\n",
    "\n",
    "gram = np.dot(A.T, A)\n",
    "L = linalg.norm(gram, ord=2)\n",
    "\n",
    "n_iter = 300\n",
    "\n",
    "x_hat = np.zeros_like(x)\n",
    "objs = list()\n",
    "for k in range(n_iter):\n",
    "    x_hat -= 1. / L * gradient(x_hat)\n",
    "    objs.append(objective(x_hat))\n",
    "\n",
    "eps = np.finfo('float').eps\n",
    "plt.plot(np.log10(np.maximum(np.array(objs) - objective(x_solve), eps)))\n",
    "plt.xlabel('iteration')\n",
    "plt.ylabel('objective')"
   ]
  },
  {
   "cell_type": "code",
   "execution_count": 14,
   "metadata": {
    "collapsed": false
   },
   "outputs": [],
   "source": [
    "np.zeros_like([3,4,5]), eps, np.finfo?"
   ]
  },
  {
   "cell_type": "code",
   "execution_count": null,
   "metadata": {
    "collapsed": true
   },
   "outputs": [],
   "source": [
    "np.zeros_like([3,4,5]), eps, np.finfo"
   ]
  },
  {
   "cell_type": "markdown",
   "metadata": {},
   "source": [
    "## Option 3: cyclic coordinate descent"
   ]
  },
  {
   "cell_type": "code",
   "execution_count": 6,
   "metadata": {
    "collapsed": false
   },
   "outputs": [
    {
     "data": {
      "text/plain": [
       "<matplotlib.text.Text at 0x11c32d0f0>"
      ]
     },
     "execution_count": 6,
     "metadata": {},
     "output_type": "execute_result"
    },
    {
     "data": {
      "image/png": "[encoded data removed]",
      "text/plain": [
       "<matplotlib.figure.Figure at 0x11c34fac8>"
      ]
     },
     "metadata": {},
     "output_type": "display_data"
    }
   ],
   "source": [
    "Li = np.sum(A * A, axis=0)\n",
    "\n",
    "n_iter = 300 * n_features # this n_iter is the iter for coordinates \n",
    "\n",
    "x_hat = np.zeros_like(x) # generate the same dimension as x but with elements 0s\n",
    "objs = list()\n",
    "for k in range(n_iter):\n",
    "    i = k % n_features\n",
    "    x_hat[i] = np.dot(A[:, i].T, y - np.dot(A, x_hat) + x_hat[i] * A[:, i])\n",
    "    x_hat[i] /= np.dot(A[:, i], A[:, i])\n",
    "    objs.append(objective(x_hat))\n",
    "\n",
    "plt.plot(np.log10(np.maximum(np.array(objs) - objective(x_solve), eps)))\n",
    "plt.xlabel('iteration')\n",
    "plt.ylabel('objective')"
   ]
  },
  {
   "cell_type": "code",
   "execution_count": 16,
   "metadata": {
    "collapsed": false
   },
   "outputs": [
    {
     "data": {
      "text/plain": [
       "array([  3.33226326e+03,   1.48059320e+03,   7.90334915e+02,\n",
       "         4.65745229e+02,   2.91929315e+02,   1.90857843e+02,\n",
       "         1.28676201e+02,   8.88316904e+01,   6.25056446e+01,\n",
       "         4.46878544e+01,   3.23890261e+01,   2.37571793e+01,\n",
       "         1.76106324e+01,   1.31773243e+01,   9.94278804e+00,\n",
       "         7.55834435e+00,   5.78409817e+00,   4.45273676e+00,\n",
       "         3.44610065e+00,   2.67977208e+00,   2.09278890e+00,\n",
       "         1.64068734e+00,   1.29073751e+00,   1.01864205e+00,\n",
       "         8.06223005e-01,   6.39783684e-01,   5.08936957e-01,\n",
       "         4.05759041e-01,   3.24172905e-01,   2.59495177e-01,\n",
       "         2.08100579e-01,   1.67171602e-01,   1.34510509e-01,\n",
       "         1.08397273e-01,   8.74816162e-02,   7.07005446e-02,\n",
       "         5.72150519e-02,   4.63613279e-02,   3.76129998e-02,\n",
       "         3.05518031e-02,   2.48447256e-02,   2.02261407e-02,\n",
       "         1.64838009e-02,   1.34478299e-02,   1.09820486e-02,\n",
       "         8.97712589e-03,   7.34515869e-03,   6.01537378e-03,\n",
       "         4.93071337e-03,   4.04511778e-03,   3.32135905e-03,\n",
       "         2.72931114e-03,   2.24456661e-03,   1.84732857e-03,\n",
       "         1.52152210e-03,   1.25408044e-03,   1.03437104e-03,\n",
       "         8.53733274e-04,   7.05105789e-04,   5.82725645e-04,\n",
       "         4.81885167e-04,   3.98735212e-04,   3.30125811e-04,\n",
       "         2.73476937e-04,   2.26673610e-04,   1.87980652e-04,\n",
       "         1.55973349e-04,   1.29480992e-04,   1.07540870e-04,\n",
       "         8.93607281e-05,   7.42881256e-05,   6.17853854e-05,\n",
       "         5.14091085e-05,   4.27934023e-05,   3.56361392e-05,\n",
       "         2.96876891e-05,   2.47416725e-05,   2.06273667e-05,\n",
       "         1.72034647e-05,   1.43529419e-05,   1.19788309e-05,\n",
       "         1.00007418e-05,   8.35199422e-06,   6.97725173e-06,\n",
       "         5.83057010e-06,   4.87378515e-06,   4.07518101e-06,\n",
       "         3.40838894e-06,   2.85147636e-06,   2.38619297e-06,\n",
       "         1.99734643e-06,   1.67228490e-06,   1.40046819e-06,\n",
       "         1.17311214e-06,   9.82893297e-07,   8.23703962e-07,\n",
       "         6.90448514e-07,   5.78874392e-07,   4.85431393e-07,\n",
       "         4.07154811e-07,   3.41568025e-07,   2.86601560e-07,\n",
       "         2.40525715e-07,   2.01894299e-07,   1.69497843e-07,\n",
       "         1.42324595e-07,   1.19527948e-07,   1.00399365e-07,\n",
       "         8.43456416e-08,   7.08700370e-08,   5.95565659e-08,\n",
       "         5.00566273e-08,   4.20782129e-08,   3.53764875e-08,\n",
       "         2.97463227e-08,   2.50155789e-08,   2.10399822e-08,\n",
       "         1.76985182e-08,   1.48895936e-08,   1.25280177e-08,\n",
       "         1.05422906e-08,   8.87233931e-09,   7.46779349e-09,\n",
       "         6.28629238e-09,   5.29229993e-09,   4.45594317e-09,\n",
       "         3.75215770e-09,   3.15985105e-09,   2.66130762e-09,\n",
       "         2.24165042e-09,   1.88833482e-09,   1.59085189e-09,\n",
       "         1.34036426e-09,   1.12941478e-09,   9.51754231e-10,\n",
       "         8.02092615e-10,   6.76037004e-10,   5.69826852e-10,\n",
       "         4.80349982e-10,   4.04952516e-10,   3.41410455e-10,\n",
       "         2.87863955e-10,   2.42733833e-10,   2.04677164e-10,\n",
       "         1.72615700e-10,   1.45595536e-10,   1.22780008e-10,\n",
       "         1.03581144e-10,   8.73718875e-11,   7.37081507e-11,\n",
       "         6.21707130e-11,   5.24540411e-11,   4.42739179e-11,\n",
       "         3.73514553e-11,   3.15196758e-11,   2.65902855e-11,\n",
       "         2.24513741e-11,   1.89483984e-11,   1.59676716e-11,\n",
       "         1.35020883e-11,   1.13971055e-11,   9.61186686e-12,\n",
       "         8.11439804e-12,   6.85673740e-12,   5.78737058e-12,\n",
       "         4.88498131e-12,   4.12470058e-12,   3.48698848e-12,\n",
       "         2.93987057e-12,   2.49045229e-12,   2.09610107e-12,\n",
       "         1.77458048e-12,   1.50990331e-12,   1.27187150e-12,\n",
       "         1.06403775e-12,   9.11271059e-13,   7.58504370e-13,\n",
       "         6.41264819e-13,   5.41788836e-13,   4.68958206e-13,\n",
       "         3.89022148e-13,   3.32178729e-13,   2.80664381e-13,\n",
       "         2.32702746e-13,   1.91846539e-13,   1.75859327e-13,\n",
       "         1.47437618e-13,   1.19015908e-13,   1.03028697e-13,\n",
       "         8.34887715e-14,   7.10542736e-14,   6.39488462e-14,\n",
       "         6.39488462e-14,   3.90798505e-14,   4.26325641e-14,\n",
       "         3.19744231e-14,   3.55271368e-14,   2.66453526e-14,\n",
       "         2.30926389e-14,   2.66453526e-14,   1.95399252e-14,\n",
       "         1.95399252e-14,   7.10542736e-15,   1.95399252e-14,\n",
       "         7.10542736e-15,   7.10542736e-15,   1.06581410e-14,\n",
       "         7.10542736e-15,   1.95399252e-14,   2.22044605e-16,\n",
       "         7.10542736e-15,   1.06581410e-14,   3.55271368e-15,\n",
       "         3.55271368e-15,   2.22044605e-16,   2.22044605e-16,\n",
       "         2.22044605e-16,   1.06581410e-14,   2.22044605e-16,\n",
       "         3.55271368e-15,   1.06581410e-14,   3.55271368e-15,\n",
       "         7.10542736e-15,   3.55271368e-15,   2.22044605e-16,\n",
       "         3.55271368e-15,   7.10542736e-15,   2.22044605e-16,\n",
       "         7.10542736e-15,   7.10542736e-15,   7.10542736e-15,\n",
       "         1.06581410e-14,   2.22044605e-16,   3.55271368e-15,\n",
       "         7.10542736e-15,   7.10542736e-15,   2.22044605e-16,\n",
       "         2.22044605e-16,   1.59872116e-14,   2.22044605e-16,\n",
       "         1.06581410e-14,   7.10542736e-15,   3.55271368e-15,\n",
       "         7.10542736e-15,   1.06581410e-14,   3.55271368e-15,\n",
       "         3.55271368e-15,   2.22044605e-16,   1.59872116e-14,\n",
       "         1.06581410e-14,   2.22044605e-16,   7.10542736e-15,\n",
       "         2.22044605e-16,   3.55271368e-15,   7.10542736e-15,\n",
       "         2.22044605e-16,   3.55271368e-15,   2.22044605e-16,\n",
       "         7.10542736e-15,   1.06581410e-14,   2.22044605e-16,\n",
       "         3.55271368e-15,   2.22044605e-16,   2.22044605e-16,\n",
       "         1.06581410e-14,   2.22044605e-16,   1.06581410e-14,\n",
       "         7.10542736e-15,   2.22044605e-16,   7.10542736e-15,\n",
       "         7.10542736e-15,   7.10542736e-15,   1.06581410e-14,\n",
       "         2.22044605e-16,   7.10542736e-15,   1.59872116e-14,\n",
       "         2.22044605e-16,   1.06581410e-14,   3.55271368e-15,\n",
       "         2.22044605e-16,   3.55271368e-15,   2.22044605e-16,\n",
       "         3.55271368e-15,   3.55271368e-15,   3.55271368e-15,\n",
       "         1.06581410e-14,   2.22044605e-16,   3.55271368e-15,\n",
       "         3.55271368e-15,   7.10542736e-15,   1.06581410e-14,\n",
       "         3.55271368e-15,   3.55271368e-15,   2.22044605e-16,\n",
       "         2.22044605e-16,   3.55271368e-15,   1.06581410e-14,\n",
       "         7.10542736e-15,   1.06581410e-14,   3.55271368e-15])"
      ]
     },
     "execution_count": 16,
     "metadata": {},
     "output_type": "execute_result"
    }
   ],
   "source": [
    "np.maximum(np.array(objs) - objective(x_solve), eps) # eps define the precision"
   ]
  },
  {
   "cell_type": "markdown",
   "metadata": {},
   "source": [
    "### or written in a more generic manner:"
   ]
  },
  {
   "cell_type": "code",
   "execution_count": 17,
   "metadata": {
    "collapsed": false
   },
   "outputs": [
    {
     "data": {
      "text/plain": [
       "<matplotlib.text.Text at 0x111f4f860>"
      ]
     },
     "execution_count": 17,
     "metadata": {},
     "output_type": "execute_result"
    },
    {
     "data": {
      "image/png": "[encoded data removed]",
      "text/plain": [
       "<matplotlib.figure.Figure at 0x111e81898>"
      ]
     },
     "metadata": {},
     "output_type": "display_data"
    }
   ],
   "source": [
    "def gradient_i(x, i):\n",
    "    return np.dot(A[:, i].T, np.dot(A, x) - y)\n",
    "\n",
    "Li = np.sum(A * A, axis=0)\n",
    "\n",
    "n_iter = 300 * n_features\n",
    "\n",
    "x_hat = np.zeros_like(x)\n",
    "objs = list()\n",
    "for k in range(n_iter):\n",
    "    i = k % n_features\n",
    "    x_hat[i] -= 1. / Li[i] * gradient_i(x_hat, i) # equivalent form with the above equation\n",
    "    objs.append(objective(x_hat))\n",
    "\n",
    "plt.plot(np.log10(np.maximum(np.array(objs) - objective(x_solve), eps)))\n",
    "plt.xlabel('iteration')\n",
    "plt.ylabel('objective')"
   ]
  },
  {
   "cell_type": "code",
   "execution_count": null,
   "metadata": {
    "collapsed": true
   },
   "outputs": [],
   "source": []
  }
 ],
 "metadata": {
  "kernelspec": {
   "display_name": "Python 3",
   "language": "python",
   "name": "python3"
  },
  "language_info": {
   "codemirror_mode": {
    "name": "ipython",
    "version": 3
   },
   "file_extension": ".py",
   "mimetype": "text/x-python",
   "name": "python",
   "nbconvert_exporter": "python",
   "pygments_lexer": "ipython3",
   "version": "3.6.0"
  }
 },
 "nbformat": 4,
 "nbformat_minor": 1
}
